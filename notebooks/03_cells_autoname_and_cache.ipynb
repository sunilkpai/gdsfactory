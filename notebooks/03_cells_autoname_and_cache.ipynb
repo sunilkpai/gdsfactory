{
 "cells": [
  {
   "cell_type": "markdown",
   "metadata": {},
   "source": [
    "# Parametric Cells\n",
    "\n",
    "Problem:\n",
    "\n",
    "In GDS format\n",
    "\n",
    "- each component must have a unique name. Ideally the name is also consitent from different run times, in case you want to merge GDS files that were created at different times or computers.\n",
    "- two components stored in the GDS file cannot have the same name. Ideally they will be references to the same component. See `References tutorial`. That way we only have to store that component in memory once and all the references are just pointers to that component.\n",
    "\n",
    "Solution: The decorator `@gf.cell` addresses all these issues:\n",
    "\n",
    "1. Gives the component a unique name depending on the parameters that you pass to it.\n",
    "2. Creates a cache of components where we use the name as the key. The first time the function runs, the cache stores the component, so the second time, you get the component directly from the cache, so you don't create the same component twice.\n",
    "\n",
    "\n",
    "Also, thanks to the @cell decorator, GDS cells in gdsfactory include an `metadata` dictionary where you can access all component settings:\n",
    "\n",
    "- `changed` settings used to create the component\n",
    "- `default` settings in function signature\n",
    "- `full` full settings\n",
    "- name\n",
    "- function_name\n",
    "- module\n",
    "\n",
    "`@cell` comes from PCell `parametric cell` that returns a different Component depending on the input parameters.\n",
    "\n",
    "Make sure that your components get good names by adding the `@cell` decorator to that each function that returns a component.\n",
    "\n",
    "Lets see how it works."
   ]
  },
  {
   "cell_type": "code",
   "execution_count": 1,
   "metadata": {
    "execution": {
     "iopub.execute_input": "2022-04-29T12:46:06.128047Z",
     "iopub.status.busy": "2022-04-29T12:46:06.127638Z",
     "iopub.status.idle": "2022-04-29T12:46:08.680445Z",
     "shell.execute_reply": "2022-04-29T12:46:08.679726Z"
    }
   },
   "outputs": [
    {
     "name": "stderr",
     "output_type": "stream",
     "text": [
      "2022-04-29 12:46:07.213 | INFO     | gdsfactory.config:<module>:52 - Load '/home/runner/work/gdsfactory/gdsfactory/gdsfactory' 5.3.4\n"
     ]
    }
   ],
   "source": [
    "import gdsfactory as gf\n",
    "\n",
    "# gf.CONF.plotter = 'holoviews'\n",
    "\n",
    "\n",
    "@gf.cell\n",
    "def wg(length=10, width=1, layer=(1, 0)):\n",
    "    print(\"BUILDING waveguide\")\n",
    "    c = gf.Component()\n",
    "    c.add_polygon([(0, 0), (length, 0), (length, width), (0, width)], layer=layer)\n",
    "    c.add_port(\n",
    "        name=\"o1\", midpoint=[0, width / 2], width=width, orientation=180, layer=layer\n",
    "    )\n",
    "    c.add_port(\n",
    "        name=\"o2\", midpoint=[length, width / 2], width=width, orientation=0, layer=layer\n",
    "    )\n",
    "    return c"
   ]
  },
  {
   "cell_type": "markdown",
   "metadata": {},
   "source": [
    "See how the cells get the name from the parameters that you pass them"
   ]
  },
  {
   "cell_type": "code",
   "execution_count": 2,
   "metadata": {
    "execution": {
     "iopub.execute_input": "2022-04-29T12:46:08.684544Z",
     "iopub.status.busy": "2022-04-29T12:46:08.684332Z",
     "iopub.status.idle": "2022-04-29T12:46:08.695039Z",
     "shell.execute_reply": "2022-04-29T12:46:08.694324Z"
    }
   },
   "outputs": [
    {
     "name": "stdout",
     "output_type": "stream",
     "text": [
      "BUILDING waveguide\n",
      "wg: uid 1, ports ['o1', 'o2'], aliases [], 1 polygons, 0 references\n",
      "wg: uid 1, ports ['o1', 'o2'], aliases [], 1 polygons, 0 references\n",
      "BUILDING waveguide\n",
      "wg_d6e1c0cf: uid 2, ports ['o1', 'o2'], aliases [], 1 polygons, 0 references\n"
     ]
    }
   ],
   "source": [
    "c = wg()\n",
    "print(c)\n",
    "\n",
    "# The second time you will get this cell from the cache\n",
    "c = wg()\n",
    "print(c)\n",
    "\n",
    "# If you call the cell with different parameters, the cell will get a different name\n",
    "c = wg(width=0.5)\n",
    "print(c)"
   ]
  },
  {
   "cell_type": "markdown",
   "metadata": {},
   "source": [
    "Sometimes when you are changing the inside code of the function, you need to **ignore** the cache.\n",
    "you can pass `cache=False`"
   ]
  },
  {
   "cell_type": "code",
   "execution_count": 3,
   "metadata": {
    "execution": {
     "iopub.execute_input": "2022-04-29T12:46:08.698397Z",
     "iopub.status.busy": "2022-04-29T12:46:08.697711Z",
     "iopub.status.idle": "2022-04-29T12:46:08.703642Z",
     "shell.execute_reply": "2022-04-29T12:46:08.703005Z"
    }
   },
   "outputs": [
    {
     "name": "stdout",
     "output_type": "stream",
     "text": [
      "BUILDING waveguide\n"
     ]
    }
   ],
   "source": [
    "c = wg(cache=False)"
   ]
  },
  {
   "cell_type": "code",
   "execution_count": 4,
   "metadata": {
    "execution": {
     "iopub.execute_input": "2022-04-29T12:46:08.707115Z",
     "iopub.status.busy": "2022-04-29T12:46:08.706562Z",
     "iopub.status.idle": "2022-04-29T12:46:08.722585Z",
     "shell.execute_reply": "2022-04-29T12:46:08.721997Z"
    }
   },
   "outputs": [
    {
     "data": {
      "text/plain": [
       "{}"
      ]
     },
     "execution_count": 4,
     "metadata": {},
     "output_type": "execute_result"
    }
   ],
   "source": [
    "c.metadata.changed"
   ]
  },
  {
   "cell_type": "code",
   "execution_count": 5,
   "metadata": {
    "execution": {
     "iopub.execute_input": "2022-04-29T12:46:08.725688Z",
     "iopub.status.busy": "2022-04-29T12:46:08.725435Z",
     "iopub.status.idle": "2022-04-29T12:46:08.737870Z",
     "shell.execute_reply": "2022-04-29T12:46:08.737326Z"
    }
   },
   "outputs": [
    {
     "data": {
      "text/plain": [
       "{'length': 10, 'width': 1, 'layer': [1, 0]}"
      ]
     },
     "execution_count": 5,
     "metadata": {},
     "output_type": "execute_result"
    }
   ],
   "source": [
    "c.metadata.default"
   ]
  },
  {
   "cell_type": "code",
   "execution_count": 6,
   "metadata": {
    "execution": {
     "iopub.execute_input": "2022-04-29T12:46:08.741830Z",
     "iopub.status.busy": "2022-04-29T12:46:08.740666Z",
     "iopub.status.idle": "2022-04-29T12:46:08.751484Z",
     "shell.execute_reply": "2022-04-29T12:46:08.750973Z"
    }
   },
   "outputs": [
    {
     "data": {
      "text/plain": [
       "{'length': 10, 'width': 1, 'layer': [1, 0]}"
      ]
     },
     "execution_count": 6,
     "metadata": {},
     "output_type": "execute_result"
    }
   ],
   "source": [
    "c.metadata.full"
   ]
  },
  {
   "cell_type": "code",
   "execution_count": 7,
   "metadata": {
    "execution": {
     "iopub.execute_input": "2022-04-29T12:46:08.754966Z",
     "iopub.status.busy": "2022-04-29T12:46:08.754506Z",
     "iopub.status.idle": "2022-04-29T12:46:08.761618Z",
     "shell.execute_reply": "2022-04-29T12:46:08.761081Z"
    }
   },
   "outputs": [
    {
     "name": "stdout",
     "output_type": "stream",
     "text": [
      "settings:\n",
      "  changed: {}\n",
      "  child: null\n",
      "  default:\n",
      "    layer:\n",
      "    - 1\n",
      "    - 0\n",
      "    length: 10\n",
      "    width: 1\n",
      "  full:\n",
      "    layer:\n",
      "    - 1\n",
      "    - 0\n",
      "    length: 10\n",
      "    width: 1\n",
      "  function_name: wg\n",
      "  info: {}\n",
      "  info_version: 2\n",
      "  module: __main__\n",
      "  name: wg\n",
      "version: 0.0.1\n",
      "\n"
     ]
    }
   ],
   "source": [
    "c.pprint()"
   ]
  },
  {
   "cell_type": "markdown",
   "metadata": {},
   "source": [
    "thanks to `gf.cell` you can also add any metadata `info` relevant to the cell"
   ]
  },
  {
   "cell_type": "code",
   "execution_count": 8,
   "metadata": {
    "execution": {
     "iopub.execute_input": "2022-04-29T12:46:08.764722Z",
     "iopub.status.busy": "2022-04-29T12:46:08.764385Z",
     "iopub.status.idle": "2022-04-29T12:46:08.771053Z",
     "shell.execute_reply": "2022-04-29T12:46:08.770524Z"
    }
   },
   "outputs": [
    {
     "name": "stdout",
     "output_type": "stream",
     "text": [
      "BUILDING waveguide\n"
     ]
    }
   ],
   "source": [
    "c = wg(length=3, info=dict(polarization=\"te\", wavelength=1.55))"
   ]
  },
  {
   "cell_type": "code",
   "execution_count": 9,
   "metadata": {
    "execution": {
     "iopub.execute_input": "2022-04-29T12:46:08.774316Z",
     "iopub.status.busy": "2022-04-29T12:46:08.773806Z",
     "iopub.status.idle": "2022-04-29T12:46:08.779502Z",
     "shell.execute_reply": "2022-04-29T12:46:08.778934Z"
    }
   },
   "outputs": [
    {
     "name": "stdout",
     "output_type": "stream",
     "text": [
      "settings:\n",
      "  changed:\n",
      "    length: 3\n",
      "  child: null\n",
      "  default:\n",
      "    layer:\n",
      "    - 1\n",
      "    - 0\n",
      "    length: 10\n",
      "    width: 1\n",
      "  full:\n",
      "    layer:\n",
      "    - 1\n",
      "    - 0\n",
      "    length: 3\n",
      "    width: 1\n",
      "  function_name: wg\n",
      "  info:\n",
      "    polarization: te\n",
      "    wavelength: 1.55\n",
      "  info_version: 2\n",
      "  module: __main__\n",
      "  name: wg_2dcab9f2\n",
      "version: 0.0.1\n",
      "\n"
     ]
    }
   ],
   "source": [
    "c.pprint()"
   ]
  },
  {
   "cell_type": "code",
   "execution_count": 10,
   "metadata": {
    "execution": {
     "iopub.execute_input": "2022-04-29T12:46:08.782817Z",
     "iopub.status.busy": "2022-04-29T12:46:08.782316Z",
     "iopub.status.idle": "2022-04-29T12:46:08.787811Z",
     "shell.execute_reply": "2022-04-29T12:46:08.787374Z"
    }
   },
   "outputs": [
    {
     "name": "stdout",
     "output_type": "stream",
     "text": [
      "1.55\n"
     ]
    }
   ],
   "source": [
    "print(c.metadata.info.wavelength)"
   ]
  },
  {
   "cell_type": "markdown",
   "metadata": {},
   "source": [
    "## Metadata\n",
    "\n",
    "Together with the GDS files that you send to the foundry you can also store some metadata in YAML for each cell containing all the settings that we used to build the GDS.\n",
    "\n",
    "the metadata will consists of all the parameters that were passed to the component function as well as derived properties\n",
    "\n",
    "- settings: includes all component metadata\n",
    "    - derived properties\n",
    "    - external metadata (test_protocol, docs, ...)\n",
    "    - simulation_settings\n",
    "    - function_name\n",
    "    - name: for the component\n",
    "    - name_long: for the component\n",
    "    - full: full list of settings\n",
    "    - changed: changed settings\n",
    "    - default: includes the default signature of the component\n",
    "- ports: port name, width, orientation\n"
   ]
  },
  {
   "cell_type": "markdown",
   "metadata": {},
   "source": [
    "How can you have add two different references to a cell with the same parameters?"
   ]
  },
  {
   "cell_type": "code",
   "execution_count": 11,
   "metadata": {
    "execution": {
     "iopub.execute_input": "2022-04-29T12:46:08.791014Z",
     "iopub.status.busy": "2022-04-29T12:46:08.790600Z",
     "iopub.status.idle": "2022-04-29T12:46:08.970565Z",
     "shell.execute_reply": "2022-04-29T12:46:08.969934Z"
    }
   },
   "outputs": [
    {
     "data": {
      "image/png": "[encoded data removed]",
      "text/plain": [
       "<Figure size 432x288 with 1 Axes>"
      ]
     },
     "metadata": {
      "needs_background": "light"
     },
     "output_type": "display_data"
    }
   ],
   "source": [
    "import gdsfactory as gf\n",
    "\n",
    "c = gf.Component(\"problem\")\n",
    "R1 = gf.components.rectangle(\n",
    "    size=(4, 2), layer=(2, 0)\n",
    ")  # Creates a rectangle (same Unique ID uid)\n",
    "R2 = gf.components.rectangle(size=(4, 2), layer=(3, 0))\n",
    "# Try Create a new rectangle that we want to change (but has the same name so we will get R1 from the cache)\n",
    "\n",
    "r1r = c << R1  # Add the first rectangle to c\n",
    "r2r = c << R2  # Add the second rectangle to c\n",
    "r2r.move((4, 2))\n",
    "c.plot()"
   ]
  },
  {
   "cell_type": "code",
   "execution_count": 12,
   "metadata": {
    "execution": {
     "iopub.execute_input": "2022-04-29T12:46:08.973886Z",
     "iopub.status.busy": "2022-04-29T12:46:08.973683Z",
     "iopub.status.idle": "2022-04-29T12:46:08.979067Z",
     "shell.execute_reply": "2022-04-29T12:46:08.978518Z"
    }
   },
   "outputs": [
    {
     "name": "stdout",
     "output_type": "stream",
     "text": [
      "False\n",
      "rectangle_5be13441: uid 6, ports ['e1', 'e2', 'e3', 'e4'], aliases [], 0 polygons, 1 references\n",
      "rectangle_3b71599f: uid 8, ports ['e1', 'e2', 'e3', 'e4'], aliases [], 0 polygons, 1 references\n"
     ]
    }
   ],
   "source": [
    "print(R1 == R2)\n",
    "print(R1)\n",
    "print(R2)"
   ]
  },
  {
   "cell_type": "code",
   "execution_count": 13,
   "metadata": {
    "execution": {
     "iopub.execute_input": "2022-04-29T12:46:08.982406Z",
     "iopub.status.busy": "2022-04-29T12:46:08.981888Z",
     "iopub.status.idle": "2022-04-29T12:46:09.138233Z",
     "shell.execute_reply": "2022-04-29T12:46:09.137713Z"
    }
   },
   "outputs": [
    {
     "data": {
      "image/png": "[encoded data removed]",
      "text/plain": [
       "<Figure size 432x288 with 1 Axes>"
      ]
     },
     "metadata": {
      "needs_background": "light"
     },
     "output_type": "display_data"
    }
   ],
   "source": [
    "# lets do it cleaner with references\n",
    "import gdsfactory as gf\n",
    "\n",
    "c = gf.Component(\"solution\")\n",
    "R = gf.components.rectangle(size=(4, 2), layer=(2, 0))\n",
    "\n",
    "r1 = c << R  # Add the first rectangle reference to c\n",
    "r2 = c << R  # Add the second rectangle reference to c\n",
    "\n",
    "r2.rotate(45)\n",
    "c.plot()"
   ]
  },
  {
   "cell_type": "code",
   "execution_count": 14,
   "metadata": {
    "execution": {
     "iopub.execute_input": "2022-04-29T12:46:09.141684Z",
     "iopub.status.busy": "2022-04-29T12:46:09.141230Z",
     "iopub.status.idle": "2022-04-29T12:46:09.400589Z",
     "shell.execute_reply": "2022-04-29T12:46:09.399960Z"
    }
   },
   "outputs": [
    {
     "data": {
      "image/png": "[encoded data removed]",
      "text/plain": [
       "<Figure size 432x288 with 1 Axes>"
      ]
     },
     "metadata": {
      "needs_background": "light"
     },
     "output_type": "display_data"
    }
   ],
   "source": [
    "import gdsfactory as gf\n",
    "\n",
    "c = gf.components.straight()\n",
    "c.show()\n",
    "c.plot()"
   ]
  },
  {
   "cell_type": "markdown",
   "metadata": {},
   "source": [
    "We can even show ports of all references with `component.show(show_subports=True)`"
   ]
  },
  {
   "cell_type": "code",
   "execution_count": 15,
   "metadata": {
    "execution": {
     "iopub.execute_input": "2022-04-29T12:46:09.405791Z",
     "iopub.status.busy": "2022-04-29T12:46:09.405113Z",
     "iopub.status.idle": "2022-04-29T12:46:09.978224Z",
     "shell.execute_reply": "2022-04-29T12:46:09.977467Z"
    }
   },
   "outputs": [
    {
     "data": {
      "image/png": "[encoded data removed]",
      "text/plain": [
       "<Figure size 432x288 with 1 Axes>"
      ]
     },
     "metadata": {
      "needs_background": "light"
     },
     "output_type": "display_data"
    }
   ],
   "source": [
    "c = gf.components.mzi_phase_shifter(length_x=50)\n",
    "c.plot()"
   ]
  },
  {
   "cell_type": "markdown",
   "metadata": {},
   "source": [
    "## Cache\n",
    "\n",
    "To avoid that 2 exact cells are not references of the same cell the `cell` decorator has a\n",
    "cache where if a component has already been built it will return the component\n",
    "from the cache\n"
   ]
  },
  {
   "cell_type": "code",
   "execution_count": 16,
   "metadata": {
    "execution": {
     "iopub.execute_input": "2022-04-29T12:46:09.981829Z",
     "iopub.status.busy": "2022-04-29T12:46:09.981183Z",
     "iopub.status.idle": "2022-04-29T12:46:09.987776Z",
     "shell.execute_reply": "2022-04-29T12:46:09.987249Z"
    }
   },
   "outputs": [],
   "source": [
    "@gf.cell\n",
    "def wg(length=10, width=1):\n",
    "    c = gf.Component()\n",
    "    c.add_polygon([(0, 0), (length, 0), (length, width), (0, width)], layer=(1, 0))\n",
    "    print(\"BUILDING waveguide\")\n",
    "    return c"
   ]
  },
  {
   "cell_type": "code",
   "execution_count": 17,
   "metadata": {
    "execution": {
     "iopub.execute_input": "2022-04-29T12:46:09.991149Z",
     "iopub.status.busy": "2022-04-29T12:46:09.990572Z",
     "iopub.status.idle": "2022-04-29T12:46:09.997185Z",
     "shell.execute_reply": "2022-04-29T12:46:09.996660Z"
    }
   },
   "outputs": [
    {
     "name": "stdout",
     "output_type": "stream",
     "text": [
      "BUILDING waveguide\n",
      "wg: uid 49, ports [], aliases [], 1 polygons, 0 references\n"
     ]
    }
   ],
   "source": [
    "gf.clear_cache()\n",
    "\n",
    "wg1 = wg()  # cell builds a straight\n",
    "print(wg1)"
   ]
  },
  {
   "cell_type": "code",
   "execution_count": 18,
   "metadata": {
    "execution": {
     "iopub.execute_input": "2022-04-29T12:46:10.000124Z",
     "iopub.status.busy": "2022-04-29T12:46:09.999616Z",
     "iopub.status.idle": "2022-04-29T12:46:10.005063Z",
     "shell.execute_reply": "2022-04-29T12:46:10.004563Z"
    }
   },
   "outputs": [
    {
     "name": "stdout",
     "output_type": "stream",
     "text": [
      "wg: uid 49, ports [], aliases [], 1 polygons, 0 references\n"
     ]
    }
   ],
   "source": [
    "wg2 = wg()\n",
    "# cell returns the same straight as before without having to run the function\n",
    "print(wg2)  # notice that they have the same uuid (unique identifier)"
   ]
  },
  {
   "cell_type": "code",
   "execution_count": 19,
   "metadata": {
    "execution": {
     "iopub.execute_input": "2022-04-29T12:46:10.008043Z",
     "iopub.status.busy": "2022-04-29T12:46:10.007754Z",
     "iopub.status.idle": "2022-04-29T12:46:10.138640Z",
     "shell.execute_reply": "2022-04-29T12:46:10.138034Z"
    }
   },
   "outputs": [
    {
     "data": {
      "image/png": "[encoded data removed]",
      "text/plain": [
       "<Figure size 432x288 with 1 Axes>"
      ]
     },
     "metadata": {
      "needs_background": "light"
     },
     "output_type": "display_data"
    }
   ],
   "source": [
    "wg2.plot()"
   ]
  },
  {
   "cell_type": "code",
   "execution_count": 20,
   "metadata": {
    "execution": {
     "iopub.execute_input": "2022-04-29T12:46:10.141773Z",
     "iopub.status.busy": "2022-04-29T12:46:10.141574Z",
     "iopub.status.idle": "2022-04-29T12:46:10.145726Z",
     "shell.execute_reply": "2022-04-29T12:46:10.145166Z"
    }
   },
   "outputs": [],
   "source": [
    "from gdsfactory.cell import print_cache"
   ]
  },
  {
   "cell_type": "markdown",
   "metadata": {},
   "source": [
    "Lets say that you change the code of the straight function in a jupyter notebook like this one.  (I mostly use Vim/VsCode/Pycharm for creating new cells in python)"
   ]
  },
  {
   "cell_type": "code",
   "execution_count": 21,
   "metadata": {
    "execution": {
     "iopub.execute_input": "2022-04-29T12:46:10.148510Z",
     "iopub.status.busy": "2022-04-29T12:46:10.148323Z",
     "iopub.status.idle": "2022-04-29T12:46:10.153200Z",
     "shell.execute_reply": "2022-04-29T12:46:10.152240Z"
    }
   },
   "outputs": [
    {
     "name": "stdout",
     "output_type": "stream",
     "text": [
      "wg\n"
     ]
    }
   ],
   "source": [
    "print_cache()"
   ]
  },
  {
   "cell_type": "code",
   "execution_count": 22,
   "metadata": {
    "execution": {
     "iopub.execute_input": "2022-04-29T12:46:10.155922Z",
     "iopub.status.busy": "2022-04-29T12:46:10.155733Z",
     "iopub.status.idle": "2022-04-29T12:46:10.159765Z",
     "shell.execute_reply": "2022-04-29T12:46:10.159175Z"
    }
   },
   "outputs": [
    {
     "name": "stdout",
     "output_type": "stream",
     "text": [
      "BUILDING waveguide\n"
     ]
    }
   ],
   "source": [
    "wg3 = wg()\n",
    "wg4 = wg(length=11)"
   ]
  },
  {
   "cell_type": "code",
   "execution_count": 23,
   "metadata": {
    "execution": {
     "iopub.execute_input": "2022-04-29T12:46:10.163822Z",
     "iopub.status.busy": "2022-04-29T12:46:10.163277Z",
     "iopub.status.idle": "2022-04-29T12:46:10.166897Z",
     "shell.execute_reply": "2022-04-29T12:46:10.166297Z"
    }
   },
   "outputs": [
    {
     "name": "stdout",
     "output_type": "stream",
     "text": [
      "wg\n",
      "wg_0723ff82\n"
     ]
    }
   ],
   "source": [
    "print_cache()"
   ]
  },
  {
   "cell_type": "code",
   "execution_count": 24,
   "metadata": {
    "execution": {
     "iopub.execute_input": "2022-04-29T12:46:10.170427Z",
     "iopub.status.busy": "2022-04-29T12:46:10.169877Z",
     "iopub.status.idle": "2022-04-29T12:46:10.173724Z",
     "shell.execute_reply": "2022-04-29T12:46:10.173185Z"
    }
   },
   "outputs": [],
   "source": [
    "gf.clear_cache()"
   ]
  },
  {
   "cell_type": "markdown",
   "metadata": {},
   "source": [
    "To enable nice notebook tutorials, every time we show a cell in Matplotlib or Klayout, you can clear the cache,\n",
    "\n",
    "in case you want to develop cells in jupyter notebooks or an IPython kernel"
   ]
  },
  {
   "cell_type": "code",
   "execution_count": 25,
   "metadata": {
    "execution": {
     "iopub.execute_input": "2022-04-29T12:46:10.176702Z",
     "iopub.status.busy": "2022-04-29T12:46:10.176404Z",
     "iopub.status.idle": "2022-04-29T12:46:10.180422Z",
     "shell.execute_reply": "2022-04-29T12:46:10.179850Z"
    }
   },
   "outputs": [],
   "source": [
    "print_cache()  # cache is now empty"
   ]
  },
  {
   "cell_type": "markdown",
   "metadata": {},
   "source": [
    "## Validate argument types\n",
    "\n",
    "By default, also `@cell` validates arguments based on their type annotations.\n",
    "To make sure you pass the correct arguments to the cell function it runs a validator that checks the type annotations for the function.\n",
    "\n",
    "\n",
    "For example this will be correct\n",
    "\n",
    "```python\n",
    "import gdsfactory as gf\n",
    "\n",
    "@gf.cell\n",
    "def straigth_waveguide(length:float):\n",
    "    return gf.components.straight(length=length)\n",
    "\n",
    "\n",
    "component = straigth_waveguide(length=3)\n",
    "```\n",
    "\n",
    "While this will raise an error, because you are passing a length that is a string, so it cannot convert it to a float\n",
    "\n",
    "\n",
    "```python\n",
    "component = straigth_waveguide(length='long')\n",
    "```\n",
    "\n",
    "```bash\n",
    "ValidationError: 1 validation error for StraigthWaveguide\n",
    "length\n",
    "  value is not a valid float (type=type_error.float)\n",
    "\n",
    "```\n",
    "\n",
    "by default `@cell` validates all arguments using [pydantic](https://pydantic-docs.helpmanual.io/usage/validation_decorator/#argument-types)"
   ]
  },
  {
   "cell_type": "code",
   "execution_count": 26,
   "metadata": {
    "execution": {
     "iopub.execute_input": "2022-04-29T12:46:10.183434Z",
     "iopub.status.busy": "2022-04-29T12:46:10.183137Z",
     "iopub.status.idle": "2022-04-29T12:46:10.193908Z",
     "shell.execute_reply": "2022-04-29T12:46:10.193340Z"
    }
   },
   "outputs": [
    {
     "name": "stdout",
     "output_type": "stream",
     "text": [
      "<class 'float'>\n"
     ]
    }
   ],
   "source": [
    "@gf.cell\n",
    "def straigth_waveguide(length: float):\n",
    "    print(type(length))\n",
    "    return gf.components.straight(length=length)\n",
    "\n",
    "\n",
    "# It will also convert an `int` to a `float`\n",
    "c = straigth_waveguide(length=3)"
   ]
  },
  {
   "cell_type": "code",
   "execution_count": null,
   "metadata": {},
   "outputs": [],
   "source": []
  }
 ],
 "metadata": {
  "kernelspec": {
   "display_name": "Python 3 (ipykernel)",
   "language": "python",
   "name": "python3"
  },
  "language_info": {
   "codemirror_mode": {
    "name": "ipython",
    "version": 3
   },
   "file_extension": ".py",
   "mimetype": "text/x-python",
   "name": "python",
   "nbconvert_exporter": "python",
   "pygments_lexer": "ipython3",
   "version": "3.9.12"
  }
 },
 "nbformat": 4,
 "nbformat_minor": 4
}
